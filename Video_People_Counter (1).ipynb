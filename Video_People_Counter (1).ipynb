{
  "nbformat": 4,
  "nbformat_minor": 0,
  "metadata": {
    "colab": {
      "provenance": []
    },
    "kernelspec": {
      "name": "python3",
      "display_name": "Python 3"
    },
    "language_info": {
      "name": "python"
    }
  },
  "cells": [
    {
      "cell_type": "code",
      "execution_count": 1,
      "metadata": {
        "colab": {
          "base_uri": "https://localhost:8080/"
        },
        "id": "o5aQ_D2Z_Q9a",
        "outputId": "2accf639-6c92-460d-de93-2f1539df79c7"
      },
      "outputs": [
        {
          "output_type": "stream",
          "name": "stdout",
          "text": [
            "Requirement already satisfied: requests in /usr/local/lib/python3.10/dist-packages (2.31.0)\n",
            "Requirement already satisfied: charset-normalizer<4,>=2 in /usr/local/lib/python3.10/dist-packages (from requests) (3.3.2)\n",
            "Requirement already satisfied: idna<4,>=2.5 in /usr/local/lib/python3.10/dist-packages (from requests) (3.4)\n",
            "Requirement already satisfied: urllib3<3,>=1.21.1 in /usr/local/lib/python3.10/dist-packages (from requests) (2.0.7)\n",
            "Requirement already satisfied: certifi>=2017.4.17 in /usr/local/lib/python3.10/dist-packages (from requests) (2023.7.22)\n"
          ]
        }
      ],
      "source": [
        "!pip install requests"
      ]
    },
    {
      "cell_type": "code",
      "source": [
        "!pip install opencv-python opencv-contrib-python"
      ],
      "metadata": {
        "colab": {
          "base_uri": "https://localhost:8080/"
        },
        "id": "qTpUqKkj_kX3",
        "outputId": "92b566a4-7c81-4fce-880c-8b31878f55e8"
      },
      "execution_count": 2,
      "outputs": [
        {
          "output_type": "stream",
          "name": "stdout",
          "text": [
            "Requirement already satisfied: opencv-python in /usr/local/lib/python3.10/dist-packages (4.8.0.76)\n",
            "Requirement already satisfied: opencv-contrib-python in /usr/local/lib/python3.10/dist-packages (4.8.0.76)\n",
            "Requirement already satisfied: numpy>=1.21.2 in /usr/local/lib/python3.10/dist-packages (from opencv-python) (1.23.5)\n"
          ]
        }
      ]
    },
    {
      "cell_type": "code",
      "source": [
        "pip install pytube"
      ],
      "metadata": {
        "colab": {
          "base_uri": "https://localhost:8080/"
        },
        "id": "sz4s6GctD2Db",
        "outputId": "c6232c60-0572-4a2b-b9d1-61eaa5e31369"
      },
      "execution_count": 3,
      "outputs": [
        {
          "output_type": "stream",
          "name": "stdout",
          "text": [
            "Requirement already satisfied: pytube in /usr/local/lib/python3.10/dist-packages (15.0.0)\n"
          ]
        }
      ]
    },
    {
      "cell_type": "code",
      "source": [
        "from pytube import YouTube\n",
        "\n",
        "# YouTube video URL\n",
        "url = 'https://www.youtube.com/watch?v=3FXUw98rrUY'\n",
        "\n",
        "yt = YouTube(url)\n",
        "\n",
        "# the highest resolution video stream\n",
        "video_stream = yt.streams.get_highest_resolution()\n",
        "\n",
        "# Download the video\n",
        "video_stream.download()\n"
      ],
      "metadata": {
        "colab": {
          "base_uri": "https://localhost:8080/",
          "height": 35
        },
        "id": "WtAyqboJD7wc",
        "outputId": "c57b6eec-7f9b-4df7-9791-4f14708dc10c"
      },
      "execution_count": 4,
      "outputs": [
        {
          "output_type": "execute_result",
          "data": {
            "text/plain": [
              "'/content/People Walking Past the Camera - Free Stock Footage For Commercial Projects.mp4'"
            ],
            "application/vnd.google.colaboratory.intrinsic+json": {
              "type": "string"
            }
          },
          "metadata": {},
          "execution_count": 4
        }
      ]
    },
    {
      "cell_type": "code",
      "source": [
        "import cv2\n"
      ],
      "metadata": {
        "id": "HChyr50C_oDP"
      },
      "execution_count": 5,
      "outputs": []
    },
    {
      "cell_type": "code",
      "source": [
        "hog = cv2.HOGDescriptor()\n",
        "hog.setSVMDetector(cv2.HOGDescriptor_getDefaultPeopleDetector())\n"
      ],
      "metadata": {
        "id": "Y7zltmjs_q0V"
      },
      "execution_count": 6,
      "outputs": []
    },
    {
      "cell_type": "code",
      "source": [
        "video = cv2.VideoCapture('/content/People Walking Past the Camera - Free Stock Footage For Commercial Projects.mp4')\n"
      ],
      "metadata": {
        "id": "7UefruZEAHEF"
      },
      "execution_count": 7,
      "outputs": []
    },
    {
      "cell_type": "code",
      "source": [
        "status, image = video.read()"
      ],
      "metadata": {
        "id": "-U2dZMgQAtwc"
      },
      "execution_count": 8,
      "outputs": []
    },
    {
      "cell_type": "code",
      "source": [
        "found, confidence = hog.detectMultiScale(image)"
      ],
      "metadata": {
        "id": "tnUxTRFICEE6"
      },
      "execution_count": 9,
      "outputs": []
    },
    {
      "cell_type": "code",
      "source": [
        "print(found)"
      ],
      "metadata": {
        "colab": {
          "base_uri": "https://localhost:8080/"
        },
        "id": "5tDOr2yaEI11",
        "outputId": "60084cc5-4041-4554-b466-38ab0de31a1a"
      },
      "execution_count": 10,
      "outputs": [
        {
          "output_type": "stream",
          "name": "stdout",
          "text": [
            "[[1040  354   70  140]\n",
            " [ 339  353   69  138]\n",
            " [1014  362   68  136]\n",
            " [ 595  266  135  269]\n",
            " [ 132  246  180  361]]\n"
          ]
        }
      ]
    },
    {
      "cell_type": "code",
      "source": [
        "print(confidence)"
      ],
      "metadata": {
        "colab": {
          "base_uri": "https://localhost:8080/"
        },
        "id": "CspWctorEKQV",
        "outputId": "afba9668-8406-4c14-bce7-245f71f229d5"
      },
      "execution_count": 11,
      "outputs": [
        {
          "output_type": "stream",
          "name": "stdout",
          "text": [
            "[2.43745304 1.33645214 1.7179209  1.04235714 1.83271586]\n"
          ]
        }
      ]
    },
    {
      "cell_type": "code",
      "source": [
        "print(image.size)\n",
        "print(image.shape)\n",
        "print(image)"
      ],
      "metadata": {
        "colab": {
          "base_uri": "https://localhost:8080/"
        },
        "id": "jCQq8ynQCvQ-",
        "outputId": "bf234d21-1fcf-430d-e0b6-add13eb53d44"
      },
      "execution_count": 12,
      "outputs": [
        {
          "output_type": "stream",
          "name": "stdout",
          "text": [
            "2764800\n",
            "(720, 1280, 3)\n",
            "[[[173 149 129]\n",
            "  [170 146 126]\n",
            "  [173 149 129]\n",
            "  ...\n",
            "  [228 220 208]\n",
            "  [228 220 208]\n",
            "  [228 220 208]]\n",
            "\n",
            " [[179 155 135]\n",
            "  [177 153 133]\n",
            "  [179 155 135]\n",
            "  ...\n",
            "  [228 220 208]\n",
            "  [228 220 208]\n",
            "  [228 220 208]]\n",
            "\n",
            " [[183 159 139]\n",
            "  [179 155 135]\n",
            "  [183 159 139]\n",
            "  ...\n",
            "  [228 220 208]\n",
            "  [228 220 208]\n",
            "  [228 220 208]]\n",
            "\n",
            " ...\n",
            "\n",
            " [[135 150 159]\n",
            "  [134 149 158]\n",
            "  [130 145 154]\n",
            "  ...\n",
            "  [ 74  90 104]\n",
            "  [ 85 101 115]\n",
            "  [ 86 102 116]]\n",
            "\n",
            " [[134 149 158]\n",
            "  [135 150 159]\n",
            "  [137 152 161]\n",
            "  ...\n",
            "  [ 79  95 109]\n",
            "  [ 97 113 127]\n",
            "  [105 121 135]]\n",
            "\n",
            " [[128 143 152]\n",
            "  [130 145 154]\n",
            "  [135 150 159]\n",
            "  ...\n",
            "  [ 86 102 116]\n",
            "  [ 98 114 128]\n",
            "  [105 121 135]]]\n"
          ]
        }
      ]
    },
    {
      "cell_type": "code",
      "source": [
        "cv2.imwrite('videoframe1.jpg',image)"
      ],
      "metadata": {
        "colab": {
          "base_uri": "https://localhost:8080/"
        },
        "id": "SgvKdQEeEQsT",
        "outputId": "8bcbc726-d5f4-45de-a7fc-b78438896f06"
      },
      "execution_count": 13,
      "outputs": [
        {
          "output_type": "execute_result",
          "data": {
            "text/plain": [
              "True"
            ]
          },
          "metadata": {},
          "execution_count": 13
        }
      ]
    },
    {
      "cell_type": "code",
      "source": [
        "![title](videoframe1.jpg)"
      ],
      "metadata": {
        "colab": {
          "base_uri": "https://localhost:8080/"
        },
        "id": "-eUJE43IFGa8",
        "outputId": "13ab4202-6cb6-4a10-ffb4-b7dc609c0236"
      },
      "execution_count": 14,
      "outputs": [
        {
          "output_type": "stream",
          "name": "stdout",
          "text": [
            "/bin/bash: -c: line 1: syntax error near unexpected token `videoframe1.jpg'\n",
            "/bin/bash: -c: line 1: `[title](videoframe1.jpg)'\n"
          ]
        }
      ]
    },
    {
      "cell_type": "code",
      "source": [
        " confCounter = 0\n",
        " for (x,y,w,h) in found:\n",
        "  cv2.rectangle(image, (x,y), (x+w, y+h), (0,255,0), 3)\n",
        "  cv2.putText(image, str(confidence[0]), (x,y), cv2.FONT_HERSHEY_SIMPLEX, 1, (0,255,0),2)\n",
        "  confCounter+=1"
      ],
      "metadata": {
        "id": "Aq0Kc9FEHmbL"
      },
      "execution_count": 15,
      "outputs": []
    },
    {
      "cell_type": "code",
      "source": [
        "cv2.imwrite('box.jpg', image)"
      ],
      "metadata": {
        "colab": {
          "base_uri": "https://localhost:8080/"
        },
        "id": "ZrJSDwyoI6ea",
        "outputId": "f07dfb3c-88eb-401c-81ab-77d9f0243eec"
      },
      "execution_count": 16,
      "outputs": [
        {
          "output_type": "execute_result",
          "data": {
            "text/plain": [
              "True"
            ]
          },
          "metadata": {},
          "execution_count": 16
        }
      ]
    },
    {
      "cell_type": "code",
      "source": [
        "![title](box.jpg)"
      ],
      "metadata": {
        "colab": {
          "base_uri": "https://localhost:8080/"
        },
        "id": "qWcezMAvKeIs",
        "outputId": "eda18122-c76c-4cb2-ab0c-d402cd6e3215"
      },
      "execution_count": 17,
      "outputs": [
        {
          "output_type": "stream",
          "name": "stdout",
          "text": [
            "/bin/bash: -c: line 1: syntax error near unexpected token `box.jpg'\n",
            "/bin/bash: -c: line 1: `[title](box.jpg)'\n"
          ]
        }
      ]
    },
    {
      "cell_type": "code",
      "source": [
        "print(\"there are \" + str(len(found)) + \" people\")"
      ],
      "metadata": {
        "colab": {
          "base_uri": "https://localhost:8080/"
        },
        "id": "COwKBcw_LESz",
        "outputId": "46ca8a1d-b75a-4a82-f506-d0868c4beada"
      },
      "execution_count": 18,
      "outputs": [
        {
          "output_type": "stream",
          "name": "stdout",
          "text": [
            "there are 5 people\n"
          ]
        }
      ]
    },
    {
      "cell_type": "code",
      "source": [
        "video = cv2.VideoCapture('/content/People Walking Past the Camera - Free Stock Footage For Commercial Projects.mp4')\n",
        "frameCounter = 0\n",
        "peopleCounter  = 0\n",
        "while video.isOpened():\n",
        "  status, image = video.read()\n",
        "  found, conf = hog.detectMultiScale(image)\n",
        "  peopleCounter += len(found)\n",
        "  frameCounter += 1\n",
        "  if frameCounter >= video.get(cv2.CAP_PROP_FRAME_COUNT):\n",
        "    break\n",
        "print(\" there are \" + str(peopleCounter) + \" in the video.\")"
      ],
      "metadata": {
        "colab": {
          "base_uri": "https://localhost:8080/"
        },
        "id": "89-aPX_JMeCo",
        "outputId": "6989ba72-a0bb-47e9-9897-95530bd23b7f"
      },
      "execution_count": 19,
      "outputs": [
        {
          "output_type": "stream",
          "name": "stdout",
          "text": [
            " there are 4509 in the video.\n"
          ]
        }
      ]
    }
  ]
}